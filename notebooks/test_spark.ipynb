{
 "cells": [
  {
   "cell_type": "code",
   "execution_count": 1,
   "metadata": {},
   "outputs": [],
   "source": [
    "import os, sys\n",
    "from pyspark.sql import SparkSession\n",
    "from pyspark.sql import functions as F"
   ]
  },
  {
   "cell_type": "code",
   "execution_count": 2,
   "metadata": {},
   "outputs": [],
   "source": [
    "os.environ['PYSPARK_DRIVER_PYTHON_OPTS']= \"notebook\"\n",
    "os.environ['PYSPARK_DRIVER_PYTHON'] = sys.executable\n",
    "os.environ['PYSPARK_PYTHON'] = sys.executable"
   ]
  },
  {
   "cell_type": "code",
   "execution_count": 3,
   "metadata": {},
   "outputs": [
    {
     "name": "stderr",
     "output_type": "stream",
     "text": [
      "Warning: Ignoring non-Spark config property: hive.exec.dynamic.partition.mode\n",
      "Warning: Ignoring non-Spark config property: hive.metastore.uris\n",
      "Warning: Ignoring non-Spark config property: hive.exec.dynamic.partition\n",
      "WARNING: An illegal reflective access operation has occurred\n",
      "WARNING: Illegal reflective access by org.apache.spark.unsafe.Platform (file:/home/nonroot/.local/lib/python3.10/site-packages/pyspark/jars/spark-unsafe_2.12-3.2.1.jar) to constructor java.nio.DirectByteBuffer(long,int)\n",
      "WARNING: Please consider reporting this to the maintainers of org.apache.spark.unsafe.Platform\n",
      "WARNING: Use --illegal-access=warn to enable warnings of further illegal reflective access operations\n",
      "WARNING: All illegal access operations will be denied in a future release\n",
      "Using Spark's default log4j profile: org/apache/spark/log4j-defaults.properties\n",
      "Setting default log level to \"WARN\".\n",
      "To adjust logging level use sc.setLogLevel(newLevel). For SparkR, use setLogLevel(newLevel).\n",
      "23/05/02 12:59:51 WARN NativeCodeLoader: Unable to load native-hadoop library for your platform... using builtin-java classes where applicable\n"
     ]
    },
    {
     "data": {
      "text/html": [
       "\n",
       "            <div>\n",
       "                <p><b>SparkSession - hive</b></p>\n",
       "                \n",
       "        <div>\n",
       "            <p><b>SparkContext</b></p>\n",
       "\n",
       "            <p><a href=\"http://74265594967e:4040\">Spark UI</a></p>\n",
       "\n",
       "            <dl>\n",
       "              <dt>Version</dt>\n",
       "                <dd><code>v3.2.1</code></dd>\n",
       "              <dt>Master</dt>\n",
       "                <dd><code>spark://spark-master:7077</code></dd>\n",
       "              <dt>AppName</dt>\n",
       "                <dd><code>spark-test</code></dd>\n",
       "            </dl>\n",
       "        </div>\n",
       "        \n",
       "            </div>\n",
       "        "
      ],
      "text/plain": [
       "<pyspark.sql.session.SparkSession at 0x7f41cc0cd7e0>"
      ]
     },
     "execution_count": 3,
     "metadata": {},
     "output_type": "execute_result"
    }
   ],
   "source": [
    "spark = SparkSession.\\\n",
    "        builder.\\\n",
    "        appName(\"spark-test\").\\\n",
    "        master(\"spark://spark-master:7077\").\\\n",
    "        config(\"spark.executor.enabled\", \"true\").\\\n",
    "        config(\"spark.eventLog.dir\", \"/opt/workspace/history\").\\\n",
    "        config(\"spark.sql.execution.arrow.pyspark.enabled\", \"true\").\\\n",
    "        config(\"spark.sql.execution.arrow.pyspark.fallback.enabled\", \"true\").\\\n",
    "        enableHiveSupport().\\\n",
    "        config(\"hive.metastore.uris\", \"thrift://hive-metastore:9083\").\\\n",
    "        config(\"spark.sql.warehouse.dir\",\"hdfs://namenode:8020/users/hive/warehouse\").\\\n",
    "        config(\"hive.exec.dynamic.partition\", \"true\").\\\n",
    "        config(\"hive.exec.dynamic.partition.mode\", \"nonstrict\").\\\n",
    "        getOrCreate()\n",
    "spark"
   ]
  },
  {
   "cell_type": "code",
   "execution_count": 4,
   "metadata": {},
   "outputs": [
    {
     "name": "stdout",
     "output_type": "stream",
     "text": [
      "+---------+\n",
      "|namespace|\n",
      "+---------+\n",
      "|  default|\n",
      "|   testdb|\n",
      "+---------+\n",
      "\n"
     ]
    }
   ],
   "source": [
    "spark.sql('show databases').show()"
   ]
  },
  {
   "cell_type": "code",
   "execution_count": 5,
   "metadata": {},
   "outputs": [],
   "source": [
    "sdf = spark.table(\"testdb.weather\")"
   ]
  },
  {
   "cell_type": "code",
   "execution_count": 6,
   "metadata": {},
   "outputs": [
    {
     "name": "stderr",
     "output_type": "stream",
     "text": [
      "23/05/02 13:00:05 WARN SessionState: METASTORE_FILTER_HOOK will be ignored, since hive.security.authorization.manager is set to instance of HiveAuthorizerFactory.\n",
      "[Stage 0:>                                                          (0 + 1) / 1]\r"
     ]
    },
    {
     "name": "stdout",
     "output_type": "stream",
     "text": [
      "+-------+-------+--------+-----------+--------+-----------+-------------+----------+----------+------------+------------+-----------+-----------+-----------+-----------+--------+--------+-------+-------+---------+-------+------------+\n",
      "|mintemp|maxtemp|rainfall|evaporation|sunshine|windgustdir|windgustspeed|winddir9am|winddir3pm|windspeed9am|windspeed3pm|humidity9am|humidity3pm|pressure9am|pressure3pm|cloud9am|cloud3pm|temp9am|temp3pm|raintoday|risk_mm|raintomorrow|\n",
      "+-------+-------+--------+-----------+--------+-----------+-------------+----------+----------+------------+------------+-----------+-----------+-----------+-----------+--------+--------+-------+-------+---------+-------+------------+\n",
      "|    8.0|   24.3|     0.0|        3.4|     6.3|         NW|         30.0|        SW|        NW|         6.0|        20.0|       68.0|       29.0|     1019.7|     1015.0|     7.0|     7.0|   14.4|   23.6|       No|    3.6|         Yes|\n",
      "|   14.0|   26.9|     3.6|        4.4|     9.7|        ENE|         39.0|         E|         W|         4.0|        17.0|       80.0|       36.0|     1012.4|     1008.4|     5.0|     3.0|   17.5|   25.7|      Yes|    3.6|         Yes|\n",
      "|   13.7|   23.4|     3.6|        5.8|     3.3|         NW|         85.0|         N|       NNE|         6.0|         6.0|       82.0|       69.0|     1009.5|     1007.2|     8.0|     7.0|   15.4|   20.2|      Yes|   39.8|         Yes|\n",
      "|   13.3|   15.5|    39.8|        7.2|     9.1|         NW|         54.0|       WNW|         W|        30.0|        24.0|       62.0|       56.0|     1005.5|     1007.0|     2.0|     7.0|   13.5|   14.1|      Yes|    2.8|         Yes|\n",
      "|    7.6|   16.1|     2.8|        5.6|    10.6|        SSE|         50.0|       SSE|       ESE|        20.0|        28.0|       68.0|       49.0|     1018.3|     1018.5|     7.0|     7.0|   11.1|   15.4|      Yes|    0.0|          No|\n",
      "+-------+-------+--------+-----------+--------+-----------+-------------+----------+----------+------------+------------+-----------+-----------+-----------+-----------+--------+--------+-------+-------+---------+-------+------------+\n",
      "only showing top 5 rows\n",
      "\n"
     ]
    },
    {
     "name": "stderr",
     "output_type": "stream",
     "text": [
      "                                                                                \r"
     ]
    }
   ],
   "source": [
    "sdf.show(5)"
   ]
  },
  {
   "cell_type": "code",
   "execution_count": 8,
   "metadata": {},
   "outputs": [],
   "source": [
    "spark.stop()"
   ]
  },
  {
   "cell_type": "code",
   "execution_count": null,
   "metadata": {},
   "outputs": [],
   "source": []
  }
 ],
 "metadata": {
  "kernelspec": {
   "display_name": "Python 3",
   "language": "python",
   "name": "python3"
  },
  "language_info": {
   "codemirror_mode": {
    "name": "ipython",
    "version": 3
   },
   "file_extension": ".py",
   "mimetype": "text/x-python",
   "name": "python",
   "nbconvert_exporter": "python",
   "pygments_lexer": "ipython3",
   "version": "3.10.11"
  },
  "orig_nbformat": 4
 },
 "nbformat": 4,
 "nbformat_minor": 2
}
